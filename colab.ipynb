{
  "cells": [
    {
      "cell_type": "code",
      "execution_count": null,
      "metadata": {
        "id": "VjYy0F2gZIPR",
        "colab": {
          "base_uri": "https://localhost:8080/"
        },
        "outputId": "25fc8772-3e6b-4c49-ed43-ae2a9f31b9fb"
      },
      "outputs": [
        {
          "output_type": "stream",
          "name": "stdout",
          "text": [
            "/content\n",
            "Cloning into 'Fooocus-MRE'...\n",
            "remote: Enumerating objects: 7718, done.\u001b[K\n",
            "remote: Total 7718 (delta 0), reused 0 (delta 0), pack-reused 7718 (from 1)\u001b[K\n",
            "Receiving objects: 100% (7718/7718), 33.52 MiB | 15.71 MiB/s, done.\n",
            "Resolving deltas: 100% (4562/4562), done.\n",
            "/content/Fooocus-MRE\n",
            "Collecting pygit2==1.12.2\n",
            "  Downloading pygit2-1.12.2-cp311-cp311-manylinux_2_17_x86_64.manylinux2014_x86_64.whl.metadata (3.5 kB)\n",
            "Requirement already satisfied: cffi>=1.9.1 in /usr/local/lib/python3.11/dist-packages (from pygit2==1.12.2) (1.17.1)\n",
            "Requirement already satisfied: pycparser in /usr/local/lib/python3.11/dist-packages (from cffi>=1.9.1->pygit2==1.12.2) (2.22)\n",
            "Downloading pygit2-1.12.2-cp311-cp311-manylinux_2_17_x86_64.manylinux2014_x86_64.whl (4.9 MB)\n",
            "\u001b[2K   \u001b[90m━━━━━━━━━━━━━━━━━━━━━━━━━━━━━━━━━━━━━━━━\u001b[0m \u001b[32m4.9/4.9 MB\u001b[0m \u001b[31m62.9 MB/s\u001b[0m eta \u001b[36m0:00:00\u001b[0m\n",
            "\u001b[?25hInstalling collected packages: pygit2\n",
            "  Attempting uninstall: pygit2\n",
            "    Found existing installation: pygit2 1.17.0\n",
            "    Uninstalling pygit2-1.17.0:\n",
            "      Successfully uninstalled pygit2-1.17.0\n",
            "Successfully installed pygit2-1.12.2\n",
            "Already up-to-date\n",
            "Update succeeded.\n",
            "Python 3.11.11 (main, Dec  4 2024, 08:55:07) [GCC 11.4.0]\n",
            "Fooocus version: 2.0.78.5 MRE\n",
            "Inference Engine cloned.\n",
            "Inference Engine checkout finished.\n",
            "Installing xformers\n",
            "Installing requirements\n",
            "Couldn't install requirements.\n",
            "Command: \"/usr/bin/python3\" -m pip install -r \"requirements_versions.txt\" --prefer-binary\n",
            "Error code: 1\n",
            "stdout: Collecting torchsde==0.2.5 (from -r requirements_versions.txt (line 1))\n",
            "  Downloading torchsde-0.2.5-py3-none-any.whl.metadata (748 bytes)\n",
            "\n",
            "stderr: WARNING: Ignoring version 0.2.5 of torchsde since it has invalid metadata:\n",
            "Requested torchsde==0.2.5 from https://files.pythonhosted.org/packages/73/8d/efd3e7b31ea854d0bd6886aa3cf44914adce113a6d460850af41ac1dd4dd/torchsde-0.2.5-py3-none-any.whl (from -r requirements_versions.txt (line 1)) has invalid metadata: .* suffix can only be used with `==` or `!=` operators\n",
            "    numpy (>=1.19.*) ; python_version >= \"3.7\"\n",
            "           ~~~~~~~^\n",
            "Please use pip<24.1 if you need to use this version.\n",
            "ERROR: Could not find a version that satisfies the requirement torchsde==0.2.5 (from versions: 0.2.5, 0.2.6)\n",
            "ERROR: No matching distribution found for torchsde==0.2.5\n",
            "\n",
            "CMD Failed requirements: install -r \"requirements_versions.txt\"\n",
            "Downloading: \"https://huggingface.co/stabilityai/stable-diffusion-xl-base-1.0/resolve/main/sd_xl_base_1.0_0.9vae.safetensors\" to /content/Fooocus-MRE/models/checkpoints/sd_xl_base_1.0_0.9vae.safetensors\n",
            "\n",
            " 64% 4.17G/6.46G [00:19<00:10, 230MB/s]"
          ]
        }
      ],
      "source": [
        "%cd /content\n",
        "!git clone https://github.com/MoonRide303/Fooocus-MRE.git\n",
        "%cd Fooocus-MRE\n",
        "!cp settings-no-refiner.json settings.json\n",
        "!pip install pygit2==1.12.2\n",
        "!python entry_with_update.py --share\n"
      ]
    }
  ],
  "metadata": {
    "accelerator": "GPU",
    "colab": {
      "gpuType": "T4",
      "provenance": []
    },
    "kernelspec": {
      "display_name": "Python 3",
      "name": "python3"
    },
    "language_info": {
      "name": "python"
    }
  },
  "nbformat": 4,
  "nbformat_minor": 0
}