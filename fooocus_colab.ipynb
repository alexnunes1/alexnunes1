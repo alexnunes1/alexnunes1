{
  "cells": [
    {
      "cell_type": "markdown",
      "metadata": {
        "id": "view-in-github",
        "colab_type": "text"
      },
      "source": [
        "<a href=\"https://colab.research.google.com/github/alexnunes1/alexnunes1/blob/main/fooocus_colab.ipynb\" target=\"_parent\"><img src=\"https://colab.research.google.com/assets/colab-badge.svg\" alt=\"Open In Colab\"/></a>"
      ]
    },
    {
      "cell_type": "code",
      "execution_count": null,
      "metadata": {
        "id": "VjYy0F2gZIPR",
        "outputId": "f51ad5a7-bdec-4e56-dc37-d158c0b09d14",
        "colab": {
          "base_uri": "https://localhost:8080/"
        }
      },
      "outputs": [
        {
          "output_type": "stream",
          "name": "stdout",
          "text": [
            "Requirement already satisfied: pygit2==1.15.1 in /usr/local/lib/python3.11/dist-packages (1.15.1)\n",
            "Requirement already satisfied: cffi>=1.16.0 in /usr/local/lib/python3.11/dist-packages (from pygit2==1.15.1) (1.17.1)\n",
            "Requirement already satisfied: pycparser in /usr/local/lib/python3.11/dist-packages (from cffi>=1.16.0->pygit2==1.15.1) (2.22)\n",
            "/content\n",
            "fatal: destination path 'Fooocus' already exists and is not an empty directory.\n",
            "/content/Fooocus\n",
            "Already up-to-date\n",
            "Update succeeded.\n",
            "[System ARGV] ['entry_with_update.py', '--share', '--always-high-vram']\n",
            "Python 3.11.11 (main, Dec  4 2024, 08:55:07) [GCC 11.4.0]\n",
            "Fooocus version: 2.5.5\n",
            "[Cleanup] Attempting to delete content of temp dir /tmp/fooocus\n",
            "[Cleanup] Cleanup successful\n",
            "Total VRAM 15095 MB, total RAM 12979 MB\n",
            "Set vram state to: HIGH_VRAM\n",
            "Always offload VRAM\n",
            "Device: cuda:0 Tesla T4 : native\n",
            "VAE dtype: torch.float32\n",
            "Using pytorch cross attention\n",
            "Refiner unloaded.\n",
            "Running on local URL:  http://127.0.0.1:7865\n",
            "IMPORTANT: You are using gradio version 3.41.2, however version 4.44.1 is available, please upgrade.\n",
            "--------\n",
            "model_type EPS\n",
            "UNet ADM Dimension 2816\n",
            "Running on public URL: https://3c20c85413f8ef4616.gradio.live\n",
            "\n",
            "This share link expires in 72 hours. For free permanent hosting and GPU upgrades, run `gradio deploy` from Terminal to deploy to Spaces (https://huggingface.co/spaces)\n",
            "Using pytorch attention in VAE\n",
            "Working with z of shape (1, 4, 32, 32) = 4096 dimensions.\n",
            "Using pytorch attention in VAE\n"
          ]
        }
      ],
      "source": [
        "!pip install pygit2==1.15.1\n",
        "%cd /content\n",
        "!git clone https://github.com/lllyasviel/Fooocus.git\n",
        "%cd /content/Fooocus\n",
        "!python entry_with_update.py --share --always-high-vram\n"
      ]
    },
    {
      "cell_type": "code",
      "source": [
        "!wget -O /content/Fooocus/models/checkpoints/[CyberRealistic].safetensors [https://civitai.com/api/download/models/1457203?type=Model&format=SafeTensor&size=pruned&fp=fp16]"
      ],
      "metadata": {
        "id": "_vfRAFdQQeEB",
        "outputId": "33937a46-4745-46e0-fbb8-2665a3d862e3",
        "colab": {
          "base_uri": "https://localhost:8080/"
        }
      },
      "execution_count": 3,
      "outputs": [
        {
          "output_type": "stream",
          "name": "stdout",
          "text": [
            "[https://civitai.com/api/download/models/1457203?type=Model: Scheme missing.\n"
          ]
        }
      ]
    },
    {
      "cell_type": "code",
      "source": [
        "!wget -O /content/Fooocus/models/checkpoints/[realistcstokphoto].safetensors [https://civitai.com/api/download/models/804967?type=Model&format=SafeTensor]"
      ],
      "metadata": {
        "id": "SbD30g7dQqnw",
        "outputId": "84a68056-1b26-410e-c359-5cd6e29be84f",
        "colab": {
          "base_uri": "https://localhost:8080/"
        }
      },
      "execution_count": 4,
      "outputs": [
        {
          "output_type": "stream",
          "name": "stdout",
          "text": [
            "[https://civitai.com/api/download/models/804967?type=Model: Scheme missing.\n"
          ]
        }
      ]
    },
    {
      "cell_type": "code",
      "source": [
        "!wget -O /content/Fooocus/models/checkpoints/[realistcstokphoto15].safetensors https://civitai.com/api/download/models/524032?type=Model&format=SafeTensor&size=full&fp=fp16]"
      ],
      "metadata": {
        "id": "rdf5iGYQQzKY",
        "outputId": "1a49b617-a1ea-418c-b76d-ec6e4f860134",
        "colab": {
          "base_uri": "https://localhost:8080/"
        }
      },
      "execution_count": 5,
      "outputs": [
        {
          "output_type": "stream",
          "name": "stdout",
          "text": [
            "--2025-03-20 11:12:52--  https://civitai.com/api/download/models/524032?type=Model\n",
            "Resolving civitai.com (civitai.com)... 104.22.18.237, 104.22.19.237, 172.67.12.143, ...\n",
            "Connecting to civitai.com (civitai.com)|104.22.18.237|:443... connected.\n",
            "HTTP request sent, awaiting response... 401 Unauthorized\n",
            "\n",
            "Username/Password Authentication Failed.\n"
          ]
        }
      ]
    },
    {
      "cell_type": "code",
      "source": [
        "!wget -O /content/Fooocus/models/checkpoints/[sexy attire].safetensors [https://civitai.com/api/download/models/539961?type=Model&format=SafeTensor]\n"
      ],
      "metadata": {
        "id": "_4SWxF_QQ1sv",
        "outputId": "587ff500-321f-4fe5-a9df-50bf44898a88",
        "colab": {
          "base_uri": "https://localhost:8080/"
        }
      },
      "execution_count": 6,
      "outputs": [
        {
          "output_type": "stream",
          "name": "stdout",
          "text": [
            "--2025-03-20 11:13:10--  http://attire%5D.safetensors/\n",
            "Resolving attire].safetensors (attire].safetensors)... failed: Name or service not known.\n",
            "wget: unable to resolve host address ‘attire].safetensors’\n",
            "[https://civitai.com/api/download/models/539961?type=Model: Scheme missing.\n"
          ]
        }
      ]
    },
    {
      "cell_type": "code",
      "source": [
        "!wget -O /content/Fooocus/models/checkpoints/[pornmaster].safetensors [https://civitai.com/api/download/models/1526663?type=Model&format=SafeTensor&size=pruned&fp=fp16]"
      ],
      "metadata": {
        "id": "pDN-o4VeQ7af",
        "outputId": "2d9ba5c5-5448-44d3-8973-40ab092c5e42",
        "colab": {
          "base_uri": "https://localhost:8080/"
        }
      },
      "execution_count": 7,
      "outputs": [
        {
          "output_type": "stream",
          "name": "stdout",
          "text": [
            "[https://civitai.com/api/download/models/1526663?type=Model: Scheme missing.\n"
          ]
        }
      ]
    },
    {
      "cell_type": "code",
      "source": [
        "# prompt: adicionar modelo lora civitai.com\n",
        "\n",
        "!wget -O /content/Fooocus/models/Lora/[Lora Lover Realistic].safetensors [https://civitai.com/api/download/models/97490?type=Model&format=SafeTensor&size=pruned&fp=fp16]\n"
      ],
      "metadata": {
        "id": "LokExYkHQ9lQ",
        "outputId": "a260327d-7d78-4cec-c9e9-dcf33531555b",
        "colab": {
          "base_uri": "https://localhost:8080/"
        }
      },
      "execution_count": 9,
      "outputs": [
        {
          "output_type": "stream",
          "name": "stdout",
          "text": [
            "/content/Fooocus/models/Lora/[Lora: No such file or directory\n"
          ]
        }
      ]
    }
  ],
  "metadata": {
    "accelerator": "GPU",
    "colab": {
      "gpuType": "T4",
      "provenance": [],
      "include_colab_link": true
    },
    "kernelspec": {
      "display_name": "Python 3",
      "name": "python3"
    },
    "language_info": {
      "name": "python"
    }
  },
  "nbformat": 4,
  "nbformat_minor": 0
}